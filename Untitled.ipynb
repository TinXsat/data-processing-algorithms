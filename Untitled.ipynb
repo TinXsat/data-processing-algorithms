{
 "cells": [
  {
   "cell_type": "code",
   "execution_count": 2,
   "metadata": {},
   "outputs": [
    {
     "data": {
      "text/plain": [
       "[<matplotlib.lines.Line2D at 0x7f344002b070>]"
      ]
     },
     "execution_count": 2,
     "metadata": {},
     "output_type": "execute_result"
    },
    {
     "data": {
      "image/png": "[encoded data removed]",
      "text/plain": [
       "<Figure size 432x288 with 2 Axes>"
      ]
     },
     "metadata": {
      "needs_background": "light"
     },
     "output_type": "display_data"
    }
   ],
   "source": [
    "import math\n",
    "import matplotlib.pyplot as plt\n",
    "\n",
    "\n",
    "angle = range(0, 90)\n",
    "height = range(1, 3000, 10)\n",
    "a = []\n",
    "for alpha in angle:\n",
    "    a.append(3000/math.cos(math.radians(alpha))-3000)\n",
    "\n",
    "plt.subplot(221)\n",
    "plt.grid(True)\n",
    "plt.plot(a)\n",
    "\n",
    "plt.subplot(222)\n",
    "plt.grid(True)\n",
    "plt.semilogy(a)"
   ]
  },
  {
   "cell_type": "markdown",
   "metadata": {},
   "source": [
    "# Proof of concept\n",
    "\n",
    "Providing an approximate distance to target using data from CanSat on-board sensors.\n",
    "Data to use:\n",
    "* Altitude above sea level\n",
    "* CanSat rotation in X, Y, Z axes\n",
    "* GPS position of CanSat\n",
    "* Height map of terrain"
   ]
  },
  {
   "cell_type": "markdown",
   "metadata": {},
   "source": [
    "## 1. Prepare Data"
   ]
  },
  {
   "cell_type": "code",
   "execution_count": 2,
   "metadata": {},
   "outputs": [],
   "source": [
    "import rasterio\n",
    "import rasterio.features\n",
    "import rasterio.warp\n",
    "\n",
    "import numpy as np\n",
    "\n",
    "# Load heightmap\n",
    "heightmap = rasterio.open(\"./n49_e022_1arc_v3.tif\")\n",
    "\n",
    "# Calculate heightmap corners position\n",
    "mask = heightmap.dataset_mask()\n",
    "\n",
    "for geom, val in rasterio.features.shapes(mask, transform=heightmap.transform):\n",
    "    geom = rasterio.warp.transform_geom(\n",
    "        heightmap.crs, 'EPSG:4326', geom)\n",
    "\n",
    "points = (geom['coordinates'][0][:4])\n",
    "NWCorner = points[0]\n",
    "\n",
    "# Calculate relative position\n",
    "cansat_pos = (22.767847, 49.784791)\n",
    "sat_position = (round(abs(cansat_pos[0]-NWCorner[0])*heightmap.shape[0]),\n",
    "                round(abs(cansat_pos[1]-NWCorner[1])*heightmap.shape[1]))\n",
    "\n",
    "# Generate random altidue \n",
    "sat_altitudes = np.random.randint(3000, size=1000)\n",
    "\n",
    "# Generate random X, Z rotation\n",
    "rotation = np.random.randint(360, size=(1000, 2))"
   ]
  },
  {
   "cell_type": "markdown",
   "metadata": {},
   "source": [
    "## 2. Plot data"
   ]
  },
  {
   "cell_type": "code",
   "execution_count": 5,
   "metadata": {},
   "outputs": [
    {
     "ename": "TypeError",
     "evalue": "only size-1 arrays can be converted to Python scalars",
     "output_type": "error",
     "traceback": [
      "\u001b[0;31m---------------------------------------------------------------------------\u001b[0m",
      "\u001b[0;31mTypeError\u001b[0m                                 Traceback (most recent call last)",
      "\u001b[0;32m<ipython-input-5-b398b2775532>\u001b[0m in \u001b[0;36m<module>\u001b[0;34m\u001b[0m\n\u001b[1;32m     12\u001b[0m \u001b[0mcansat_z_rotation\u001b[0m \u001b[0;34m=\u001b[0m \u001b[0mrotation\u001b[0m\u001b[0;34m[\u001b[0m\u001b[0;36m1\u001b[0m\u001b[0;34m]\u001b[0m\u001b[0;34m\u001b[0m\u001b[0;34m\u001b[0m\u001b[0m\n\u001b[1;32m     13\u001b[0m \u001b[0;34m\u001b[0m\u001b[0m\n\u001b[0;32m---> 14\u001b[0;31m \u001b[0ma\u001b[0m \u001b[0;34m=\u001b[0m \u001b[0mcansat_relative_alt\u001b[0m \u001b[0;34m*\u001b[0m \u001b[0mmath\u001b[0m\u001b[0;34m.\u001b[0m\u001b[0mtan\u001b[0m\u001b[0;34m(\u001b[0m\u001b[0mcansat_x_rotation\u001b[0m\u001b[0;34m)\u001b[0m\u001b[0;34m\u001b[0m\u001b[0;34m\u001b[0m\u001b[0m\n\u001b[0m\u001b[1;32m     15\u001b[0m \u001b[0my\u001b[0m \u001b[0;34m=\u001b[0m \u001b[0mmath\u001b[0m\u001b[0;34m.\u001b[0m\u001b[0msin\u001b[0m\u001b[0;34m(\u001b[0m\u001b[0mcansat_z_rotation\u001b[0m\u001b[0;34m)\u001b[0m \u001b[0;34m*\u001b[0m \u001b[0ma\u001b[0m\u001b[0;34m\u001b[0m\u001b[0;34m\u001b[0m\u001b[0m\n\u001b[1;32m     16\u001b[0m \u001b[0mx\u001b[0m \u001b[0;34m=\u001b[0m \u001b[0mmath\u001b[0m\u001b[0;34m.\u001b[0m\u001b[0mcos\u001b[0m\u001b[0;34m(\u001b[0m\u001b[0mcansat_z_rotation\u001b[0m\u001b[0;34m)\u001b[0m \u001b[0;34m*\u001b[0m \u001b[0ma\u001b[0m\u001b[0;34m\u001b[0m\u001b[0;34m\u001b[0m\u001b[0m\n",
      "\u001b[0;31mTypeError\u001b[0m: only size-1 arrays can be converted to Python scalars"
     ]
    }
   ],
   "source": [
    "from mayavi import mlab\n",
    "import math\n",
    "\n",
    "k = 500\n",
    "surface = heightmap.read(1)\n",
    "surface = surface[sat_position[1]-k:sat_position[1]+k, sat_position[0]-k:sat_position[0]+k]\n",
    "m = mlab.surf(surface)\n",
    "\n",
    "center_point_alt = surface[k, k]\n",
    "cansat_relative_alt = (center_point_alt-np.min(surface))+sat_altitudes[0]\n",
    "cansat_x_rotation = rotation[0][0]\n",
    "cansat_z_rotation = rotation[0][1]\n",
    "\n",
    "a = cansat_relative_alt * math.tan(cansat_x_rotation)\n",
    "y = math.sin(cansat_z_rotation) * a\n",
    "x = math.cos(cansat_z_rotation) * a\n",
    "cansat_height = mlab.plot3d([0, 0, x],[0, 0, y],\n",
    "                            [center_point_alt, cansat_relative_alt, 0],\n",
    "                            tube_radius=2.0)\n",
    "\n",
    "# Scale and show plot\n",
    "resolution = 30\n",
    "z_scale = 1/resolution\n",
    "scale = (1.0, 1.0, z_scale)\n",
    "\n",
    "cansat_height.actor.actor.scale = scale\n",
    "m.actor.actor.scale = scale\n",
    "mlab.show()"
   ]
  },
  {
   "cell_type": "code",
   "execution_count": 12,
   "metadata": {
    "scrolled": true
   },
   "outputs": [
    {
     "name": "stdout",
     "output_type": "stream",
     "text": [
      "37\n"
     ]
    }
   ],
   "source": [
    "import cv2\n",
    "print(np.min(heightmap))\n",
    "cv2.imshow(\"window\", cv2.applyColorMap((heightmap/2160*245).astype(np.uint8), cv2.COLORMAP_AUTUMN))\n",
    "cv2.waitKey(0)\n",
    "\n",
    "cv2.destroyAllWindows()"
   ]
  },
  {
   "cell_type": "code",
   "execution_count": null,
   "metadata": {},
   "outputs": [],
   "source": []
  }
 ],
 "metadata": {
  "kernelspec": {
   "display_name": "Python 3",
   "language": "python",
   "name": "python3"
  },
  "language_info": {
   "codemirror_mode": {
    "name": "ipython",
    "version": 3
   },
   "file_extension": ".py",
   "mimetype": "text/x-python",
   "name": "python",
   "nbconvert_exporter": "python",
   "pygments_lexer": "ipython3",
   "version": "3.8.6"
  }
 },
 "nbformat": 4,
 "nbformat_minor": 4
}
